{
  "cells": [
    {
      "cell_type": "markdown",
      "metadata": {
        "id": "8WOB_rEfF28U"
      },
      "source": [
        "# Image to ASCII Characters"
      ]
    },
    {
      "cell_type": "code",
      "execution_count": null,
      "metadata": {
        "colab": {
          "base_uri": "https://localhost:8080/"
        },
        "id": "ox2XSFCQArHX",
        "outputId": "9dc33322-3102-4370-cb09-0dc9037ef9eb"
      },
      "outputs": [],
      "source": [
        "import cv2\n",
        "import numpy as np\n",
        "\n",
        "ASCII_CHARS = \"@%#*+=:-. \"\n",
        "\n",
        "def image_to_ascii(image_path, output_txt_path, new_width=100):\n",
        "    img = cv2.imread(image_path, cv2.IMREAD_GRAYSCALE)\n",
        "\n",
        "    height, width = img.shape\n",
        "    aspect_ratio = height / width\n",
        "    new_height = int(aspect_ratio * new_width * 0.55)\n",
        "    resized_img = cv2.resize(img, (new_width, new_height))\n",
        "\n",
        "    ascii_img = \"\"\n",
        "    for row in resized_img:\n",
        "        for pixel in row:\n",
        "            index = int(pixel / 256 * len(ASCII_CHARS))\n",
        "            ascii_img += ASCII_CHARS[index]\n",
        "        ascii_img += \"\\n\"\n",
        "\n",
        "    with open(output_txt_path, 'w') as f:\n",
        "        f.write(ascii_img)\n",
        "\n",
        "    print(f\"ASCII art saved to: {output_txt_path}\")\n",
        "\n",
        "image_to_ascii(\"input.jpg\", \"ASCII_output.txt\", new_width=120)\n"
      ]
    },
    {
      "cell_type": "markdown",
      "metadata": {
        "id": "6FUz0jL6GBWw"
      },
      "source": [
        "# Image to Braille Art"
      ]
    },
    {
      "cell_type": "code",
      "execution_count": null,
      "metadata": {
        "colab": {
          "base_uri": "https://localhost:8080/"
        },
        "id": "J3waPYLGFL2a",
        "outputId": "fa84bf60-4491-46d8-abf7-e152d72e60ba"
      },
      "outputs": [],
      "source": [
        "import cv2\n",
        "import numpy as np\n",
        "\n",
        "def pixel_to_braille(block):\n",
        "    dot_map = [(0, 0), (1, 0), (2, 0), (0, 1), (1, 1), (2, 1), (3, 0), (3, 1)]\n",
        "\n",
        "    braille_char = 0\n",
        "    for i, (r, c) in enumerate(dot_map):\n",
        "        if r < block.shape[0] and c < block.shape[1]:\n",
        "            if block[r, c] == 255:\n",
        "                braille_char |= (1 << i)\n",
        "\n",
        "    return chr(0x2800 + braille_char)\n",
        "\n",
        "def image_to_braille(image_path, output_txt_path):\n",
        "    img = cv2.imread(image_path, cv2.IMREAD_GRAYSCALE)\n",
        "    if img is None:\n",
        "        print(\"Error: Could not read image.\")\n",
        "        return\n",
        "\n",
        "    h, w = img.shape\n",
        "    new_h = h\n",
        "    new_w = w\n",
        "    img = cv2.resize(img, (new_w, new_h))\n",
        "\n",
        "    img = cv2.adaptiveThreshold(\n",
        "        img,\n",
        "        maxValue=255,\n",
        "        adaptiveMethod=cv2.ADAPTIVE_THRESH_GAUSSIAN_C,\n",
        "        thresholdType=cv2.THRESH_BINARY_INV,\n",
        "        blockSize=11,\n",
        "        C=2\n",
        "    )\n",
        "\n",
        "    braille_lines = []\n",
        "    for y in range(0, new_h, 4):\n",
        "        line = ''\n",
        "        for x in range(0, new_w, 2):\n",
        "            block = img[y:y+4, x:x+2]\n",
        "            line += pixel_to_braille(block)\n",
        "        braille_lines.append(line)\n",
        "\n",
        "    with open(output_txt_path, 'w', encoding='utf-8') as f:\n",
        "        for line in braille_lines:\n",
        "            f.write(line + '\\n')\n",
        "\n",
        "    print(f\"Braille art saved to: {output_txt_path}\")\n",
        "\n",
        "if __name__ == \"__main__\":\n",
        "    image_to_braille(\"input.jpg\", \"braille_art_output.txt\")\n"
      ]
    }
  ],
  "metadata": {
    "colab": {
      "provenance": []
    },
    "kernelspec": {
      "display_name": "Python 3",
      "name": "python3"
    },
    "language_info": {
      "name": "python"
    }
  },
  "nbformat": 4,
  "nbformat_minor": 0
}
